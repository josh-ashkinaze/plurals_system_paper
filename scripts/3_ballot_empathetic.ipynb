{
 "cells": [
  {
   "cell_type": "code",
   "execution_count": null,
   "id": "4afd330b",
   "metadata": {},
   "outputs": [],
   "source": []
  },
  {
   "cell_type": "code",
   "execution_count": 7,
   "id": "b7697790",
   "metadata": {},
   "outputs": [
    {
     "name": "stdout",
     "output_type": "stream",
     "text": [
      "Collecting little_mallet_wrapper\n",
      "  Downloading little_mallet_wrapper-0.5.0-py3-none-any.whl (19 kB)\n",
      "Installing collected packages: little-mallet-wrapper\n",
      "Successfully installed little-mallet-wrapper-0.5.0\n",
      "\u001b[33mWARNING: You are using pip version 21.2.4; however, version 24.2 is available.\n",
      "You should consider upgrading via the '/Users/jashkina/Documents/LocResearch/plurals_system_paper/plurals_system_paper/venv/bin/python3 -m pip install --upgrade pip' command.\u001b[0m\n",
      "Downloaded and extracted to Mallet_v202108\n"
     ]
    }
   ],
   "source": [
    "import requests\n",
    "import zipfile\n",
    "import io\n",
    "import os\n",
    "\n",
    "!pip install little_mallet_wrapper\n",
    "\n",
    "\n",
    "\n",
    "def download_mallet(url=\"https://github.com/mimno/Mallet/archive/refs/tags/v202108.zip\", output_dir=\"Mallet_v202108\"):\n",
    "    \"\"\"\n",
    "    Downloads and extracts the MALLET toolkit from the specified URL.\n",
    "    \n",
    "    Parameters:\n",
    "    - url (str): The URL to download the MALLET toolkit from.\n",
    "    - output_dir (str): The directory where the toolkit will be extracted.\n",
    "    \"\"\"\n",
    "    try:\n",
    "        # Make a GET request to the URL\n",
    "        response = requests.get(url)\n",
    "        \n",
    "        # Check if the request was successful\n",
    "        if response.status_code == 200:\n",
    "            # Extract the contents of the zip file into the output directory\n",
    "            with zipfile.ZipFile(io.BytesIO(response.content)) as zip_ref:\n",
    "                zip_ref.extractall(output_dir)\n",
    "            print(f\"Downloaded and extracted to {output_dir}\")\n",
    "        else:\n",
    "            print(f\"Failed to download file, status code: {response.status_code}\")\n",
    "    except Exception as e:\n",
    "        print(f\"An error occurred: {e}\")\n",
    "\n",
    "# Example usage\n",
    "download_mallet()\n"
   ]
  },
  {
   "cell_type": "code",
   "execution_count": 19,
   "id": "d9ef9be2",
   "metadata": {},
   "outputs": [],
   "source": [
    "pathy = \"Mallet_v202108/Mallet-202108/bin/mallet\"\n",
    "import little_mallet_wrapper as lmw\n",
    "\n",
    "descs = ballots['description'].tolist()\n"
   ]
  },
  {
   "cell_type": "code",
   "execution_count": null,
   "id": "2731a571",
   "metadata": {},
   "outputs": [],
   "source": []
  },
  {
   "cell_type": "code",
   "execution_count": 159,
   "id": "431b5a374133798",
   "metadata": {},
   "outputs": [
    {
     "name": "stdout",
     "output_type": "stream",
     "text": [
      "Initial ballots 137\n",
      "Ballots with valid metadata 136\n",
      "Ballots with detailed information 124\n"
     ]
    }
   ],
   "source": [
    "import pandas as pd\n",
    "import textstat\n",
    "import re\n",
    "\n",
    "\n",
    "def make_prompt(row):\n",
    "    overview = row['overview']\n",
    "    description = row['description']\n",
    "    yes_means = row['yes_means']\n",
    "    no_means = row['no_means']\n",
    "\n",
    "    s = f\"DESCRIPTION\\n{description}\\n\\nVOTING\\n-{yes_means}\\n\\n-{no_means}\\n\\nDETAILED OVERVIEW\\n{overview}\"\n",
    "    return s\n",
    "\n",
    "\n",
    "def flesch_kincaid(text):\n",
    "    if text:\n",
    "        return textstat.flesch_kincaid_grade(text)\n",
    "    else:\n",
    "        return None\n",
    "    \n",
    "\n",
    "def clean_text(text):\n",
    "    t = fix_number_spacing(text)\n",
    "    t = remove_brackets(t)\n",
    "    return t \n",
    "\n",
    "def fix_number_spacing(text):\n",
    "    pattern = r'(\\d)\\.\\s+(\\d)'\n",
    "    corrected_text = re.sub(pattern, r'\\1.\\2', text)\n",
    "    return corrected_text\n",
    "\n",
    "def remove_brackets(text):\n",
    "    pattern = r'\\[\\d+\\]'\n",
    "    cleaned_text = re.sub(pattern, '', text)\n",
    "    return cleaned_text\n",
    "\n",
    "def sample_text(flesch_q, wc_q):\n",
    "    return ballots.query(f'description_wc_q == {wc_q} & description_fk_q == {flesch_q}').sample(1)['description'].values[0]\n",
    "\n",
    "ballots = pd.read_csv('../data/raw/2024-08-15_ballot_issues.csv')\n",
    "print(\"Initial ballots\", len(ballots))\n",
    "ballots = ballots.query('is_valid == 1')\n",
    "print(\"Ballots with valid metadata\", len(ballots))\n",
    "\n",
    "detailed_ballots = pd.read_csv(\"../data/raw/2024-08-15_detailed_ballot_issues.csv\")\n",
    "detailed_ballots = detailed_ballots.dropna(subset=['yes_means', 'no_means', 'overview'])\n",
    "merged = pd.merge(ballots, detailed_ballots, on='url', how='inner', suffixes=('', '_detailed'))\n",
    "print(\"Ballots with detailed information\", len(merged))\n",
    "\n",
    "\n",
    "\n",
    "merged['overview'] = merged['overview'].apply(clean_text)\n",
    "\n",
    "merged['overview_wc'] = merged['overview'].apply(lambda x: textstat.lexicon_count(x, removepunct=True))\n",
    "merged['overview_wc_q'] = pd.qcut(merged['overview_wc'], 4, labels=False)+1\n",
    "\n",
    "merged['overview_fk'] = merged['overview'].apply(flesch_kincaid)\n",
    "merged['overview_fk_q'] = pd.qcut(merged['overview_fk'], 4, labels=False)+1\n",
    "\n",
    "merged['prompt'] = merged.apply(make_prompt, axis=1)\n",
    "\n",
    "\n",
    "# fifty = ballots.groupby(by=['description_fk_q']).sample(10, random_state=1, replace=False)\n"
   ]
  },
  {
   "cell_type": "code",
   "execution_count": 161,
   "id": "122a60e5",
   "metadata": {},
   "outputs": [
    {
     "name": "stdout",
     "output_type": "stream",
     "text": [
      "DESCRIPTION\n",
      "Establish a single-subject rule for initiatives; increase the signature requirement for constitutional initiatives; and require constitutional initiatives to be approved at two elections\n",
      "\n",
      "VOTING\n",
      "-A \"yes\" vote supports this constitutional amendment to: establish a single-subject rule for initiatives (both statutory and constitutional), as determined by the secretary of state;increase the signature requirement for constitutional amendment initiatives from 4% of the resident population to 5% of the resident population of the state; andrequire proposed constitutional initiatives that have qualified for the ballot to be placed on the next primary election ballot, and, if approved, be placed on the next general election ballot, where it must be approved again to become effective.\n",
      "\n",
      "-A \"no\" vote opposes this constitutional amendment to adopt a single-subject rule for initiatives and make changes to the signature requirement and election process for citizen-initiated constitutional initiatives.\n",
      "\n",
      "DETAILED OVERVIEW\n",
      "This amendment would make changes to the state's initiative process and requirements , including: establishing a single-subject rule for initiatives (both statutory and constitutional), as determined by the North Dakota Secretary of State; increasing the signature requirement for constitutional amendment initiatives from 4% of the resident population to 5% of the resident population of the state; and requiring proposed constitutional initiatives that have qualified for the ballot to be placed on the next primary election ballot in June, and, if approved, be placed on the next general election ballot in November, where it must be approved again to become effective.  A single-subject rule is a state law that requires ballot initiatives to address a single subject, topic, or issue. There are 26 states that provide for at least one type of statewide citizen-initiated measure. Of those 26 states, 17 have single-subject rules. As of 2023, North Dakota was one of nine states that provide for at least one type of statewide citizen-initiated measure and that did not have a single-subject rule. The last ballot measure to provide for a single-subject rule for initiatives was Arizona Proposition 129 , which was approved by a vote of 55% of voters in favor and 45% opposed. Nevada is the only state where initiated constitutional amendments must be approved at two consecutive elections. This does not apply to legislatively referred constitutional amendments, which must be approved twice by the legislature (with a majority vote) but only once by the state’s voters. Since the double election requirement was created in 1962, there have been 15 citizen-initiated constitutional amendments that passed at the first election and appeared on the ballot again at the next election. Of the 15 measures, 13 were passed at their second elections (86.66%) and two failed (13.33%). Question 9 (1982) was rejected with 58.77% of the vote after it was approved with 70.31% of the vote in 1980 . Question 3 (2018) was rejected with 67.05% of the vote after it was approved with 72.36% of the vote in 2016 .\n"
     ]
    }
   ],
   "source": [
    "print(merged['prompt'].sample(10).tolist()[0])"
   ]
  },
  {
   "cell_type": "code",
   "execution_count": 146,
   "id": "e2ebe705",
   "metadata": {},
   "outputs": [
    {
     "name": "stdout",
     "output_type": "stream",
     "text": [
      "This measure would change deadlines for filing initiative and referendum petition signatures to remove one week in order to allow one extra week for the secretary of state to certify ballot order and content and election officials' deadline to transmit ballots. Specifically, the amendment would: change initiative petition filing deadline to three months and one week prior to the election (rather than three months); change referendum petition filing to 83 days after adjournment of the legislative session (rather than 90 days); change the deadline for the text and title of every measure to be published from at least 15 days prior to the final date of voter registration for the election to 45 days before the election; and change deadlines for justices and judges to file declarations of intent to run for another term from not more than 6 months or less than 3 months prior to the general election before the expiration of the judge's term to not more than 6 months and one week or less than 3 months and one week before that general election. To put a legislatively referred constitutional amendment before voters, a two-thirds (66.67%) vote is required in both the Colorado State Senate and the Colorado House of Representatives . The amendment was introduced as Senate Concurrent Resolution 24-002. It was approved in the Senate on April 29, 2024, by a vote of 34-1. It was passed in the House on May 5, 2024, by a vote of 61-1.\n"
     ]
    }
   ],
   "source": [
    "print(merged.query('overview_wc_q == 1').sample(1)['overview'].values[0].strip())"
   ]
  },
  {
   "cell_type": "code",
   "execution_count": 132,
   "id": "3eebb838",
   "metadata": {},
   "outputs": [],
   "source": [
    "s = \"\"\"The measure would amend the Sales and Use Tax of 1955 to provide a sales tax exemption for both child and adult diapers, including disposable diapers. The sales and use tax is on the total revenue generated from the sale and storage, use, or consumption of tangible personal property in Nevada. [1] Nineteen states, along with the District of Columbia, exempt diapers from taxation. These states are California, Colorado, Connecticut, Florida, Indiana, Iowa, Louisiana, Maryland, Massachusetts, Minnesota, New Jersey, New York, North Dakota, Ohio, Pennsylvania, Rhode Island, Texas, Vermont, and Virginia. Twenty-six states did not exempt diapers from taxation, and five states—Alaska, Delaware, Montana, New Hampshire, and Oregon—do not have a state sales tax. [2] The Sales and Use Tax Act is the law addressing the sales tax in Nevada, including what products are exempted from the sales tax. Exemptions to the sales tax include farm machinery and equipment, food, prosthetic devices, newspapers, and other items. Recent exemptions approved by voters included feminine products and durable medical equipment, oxygen delivery equipment, and mobility enhancing equipment, which were both approved by voters in 2018. [3]\"\"\""
   ]
  },
  {
   "cell_type": "code",
   "execution_count": 133,
   "id": "7da38d1d",
   "metadata": {},
   "outputs": [
    {
     "name": "stdout",
     "output_type": "stream",
     "text": [
      "The measure would amend the Sales and Use Tax of 1955 to provide a sales tax exemption for both child and adult diapers, including disposable diapers. The sales and use tax is on the total revenue generated from the sale and storage, use, or consumption of tangible personal property in Nevada. [1] Nineteen states, along with the District of Columbia, exempt diapers from taxation. These states are California, Colorado, Connecticut, Florida, Indiana, Iowa, Louisiana, Maryland, Massachusetts, Minnesota, New Jersey, New York, North Dakota, Ohio, Pennsylvania, Rhode Island, Texas, Vermont, and Virginia. Twenty-six states did not exempt diapers from taxation, and five states—Alaska, Delaware, Montana, New Hampshire, and Oregon—do not have a state sales tax. [2] The Sales and Use Tax Act is the law addressing the sales tax in Nevada, including what products are exempted from the sales tax. Exemptions to the sales tax include farm machinery and equipment, food, prosthetic devices, newspapers, and other items. Recent exemptions approved by voters included feminine products and durable medical equipment, oxygen delivery equipment, and mobility enhancing equipment, which were both approved by voters in 2018. [3]\n"
     ]
    }
   ],
   "source": [
    "print(s.strip())"
   ]
  },
  {
   "cell_type": "code",
   "execution_count": 200,
   "id": "4e36ae01",
   "metadata": {},
   "outputs": [],
   "source": [
    "s = \"\"\"Given a ballot initative, deliberate with others to decide how to vote. Answer in 50 words.\n",
    "\n",
    "###\n",
    "\n",
    "DESCRIPTION\n",
    "Establish a single-subject rule for initiatives; increase the signature requirement for constitutional initiatives; and require constitutional initiatives to be approved at two elections\n",
    "\n",
    "VOTING\n",
    "-A \"yes\" vote supports this constitutional amendment to: establish a single-subject rule for initiatives (both statutory and constitutional), as determined by the secretary of state;increase the signature requirement for constitutional amendment initiatives from 4% of the resident population to 5% of the resident population of the state; andrequire proposed constitutional initiatives that have qualified for the ballot to be placed on the next primary election ballot, and, if approved, be placed on the next general election ballot, where it must be approved again to become effective.\n",
    "\n",
    "-A \"no\" vote opposes this constitutional amendment to adopt a single-subject rule for initiatives and make changes to the signature requirement and election process for citizen-initiated constitutional initiatives.\n",
    "\n",
    "DETAILED OVERVIEW\n",
    "This amendment would make changes to the state's initiative process and requirements , including: establishing a single-subject rule for initiatives (both statutory and constitutional), as determined by the North Dakota Secretary of State; increasing the signature requirement for constitutional amendment initiatives from 4% of the resident population to 5% of the resident population of the state; and requiring proposed constitutional initiatives that have qualified for the ballot to be placed on the next primary election ballot in June, and, if approved, be placed on the next general election ballot in November, where it must be approved again to become effective.  A single-subject rule is a state law that requires ballot initiatives to address a single subject, topic, or issue. There are 26 states that provide for at least one type of statewide citizen-initiated measure. Of those 26 states, 17 have single-subject rules. As of 2023, North Dakota was one of nine states that provide for at least one type of statewide citizen-initiated measure and that did not have a single-subject rule. The last ballot measure to provide for a single-subject rule for initiatives was Arizona Proposition 129 , which was approved by a vote of 55% of voters in favor and 45% opposed. Nevada is the only state where initiated constitutional amendments must be approved at two consecutive elections. This does not apply to legislatively referred constitutional amendments, which must be approved twice by the legislature (with a majority vote) but only once by the state’s voters. Since the double election requirement was created in 1962, there have been 15 citizen-initiated constitutional amendments that passed at the first election and appeared on the ballot again at the next election. Of the 15 measures, 13 were passed at their second elections (86.66%) and two failed (13.33%). Question 9 (1982) was rejected with 58.77% of the vote after it was approved with 70.31% of the vote in 1980 . Question 3 (2018) was rejected with 67.05% of the vote after it was approved with 72.36% of the vote in 2016 .\"\"\""
   ]
  },
  {
   "cell_type": "code",
   "execution_count": 201,
   "id": "f5990687",
   "metadata": {},
   "outputs": [],
   "source": [
    "from plurals.agent import Agent\n",
    "from plurals.deliberation import Debate , Chain\n",
    "\n",
    "a1 = Agent(model='gpt-3.5-turbo')\n",
    "a2 = Agent(model='gpt-4o-mini')\n",
    "a3 = Agent(model='gpt-4o')\n",
    "chain = Chain(agents=[a1, a2], task=s, combination_instructions='empathetic', cycles=2)\n",
    "\n",
    "chain.process()"
   ]
  },
  {
   "cell_type": "code",
   "execution_count": 204,
   "id": "6a39310e",
   "metadata": {},
   "outputs": [
    {
     "name": "stdout",
     "output_type": "stream",
     "text": [
      "I would vote \"yes\" on this ballot initiative. Establishing a single-subject rule for initiatives ensures clarity and focus on each proposal. Increasing the signature requirement for constitutional initiatives and requiring approval at two elections can help ensure that only well-supported and considered measures become law, promoting more thoughtful decision-making.\n",
      "\n",
      "I believe a \"yes\" vote is crucial for ensuring our voices are truly heard. Implementing a single-subject rule fosters clarity, letting us focus on important issues. The increased signature requirement and double-election approval sound daunting, but they safeguard our democracy, helping us avoid rushed decisions. For underrepresented groups, this could create more opportunities to prioritize their concerns through clear, well-supported initiatives. While the changes may seem restrictive, they promote thoughtful engagement, ensuring that every voice, especially those often overlooked, has the time and space to resonate within our legislative processes. Our democracy deserves the patience and care these measures can bring.\n",
      "\n",
      "In the heart of our community, the decision on this initiative resonates deeply. Imagine a single mother, juggling work and home, longing for initiatives that truly address her struggles. For marginalized voices often overlooked, a \"yes\" vote signifies hope and inclusivity. Let's embrace these changes as a promise of a more just and responsive democracy.\n",
      "\n",
      "This initiative holds profound significance for our diverse community. Picture a single mother navigating hardships, yearning for initiatives that truly reflect her needs. A \"yes\" vote embodies her hope for a focused, responsive approach that elevates marginalized voices. By endorsing these changes, we pledge to strengthen our democracy together.\n",
      "\n"
     ]
    }
   ],
   "source": [
    "for x in chain.responses:\n",
    "    print(x)\n",
    "    print()"
   ]
  },
  {
   "cell_type": "code",
   "execution_count": 207,
   "id": "0a99c518",
   "metadata": {},
   "outputs": [],
   "source": [
    "from plurals.agent import Agent\n",
    "from plurals.deliberation import Debate , Chain\n",
    "\n",
    "a1 = Agent(model='gpt-3.5-turbo')\n",
    "a2 = Agent(model='gpt-4o-mini')\n",
    "a3 = Agent(model='gpt-4o')\n",
    "chain = Chain(agents=[a1, a2], task=s, combination_instructions='rational', cycles=2)\n",
    "\n",
    "chain.process()"
   ]
  },
  {
   "cell_type": "code",
   "execution_count": 208,
   "id": "e9f3df26",
   "metadata": {},
   "outputs": [
    {
     "name": "stdout",
     "output_type": "stream",
     "text": [
      "I would vote \"Yes\" on this initiative. Establishing a single-subject rule for initiatives can help ensure clarity and prevent misleading proposals. Increasing the signature requirement for constitutional initiatives and requiring approval at two elections can enhance the legitimacy of the process and ensure that significant changes have strong public support before becoming law.\n",
      "\n",
      "I support voting \"Yes\" on this initiative. Implementing a single-subject rule for ballot initiatives will promote clarity and reduce confusion. Increasing the signature requirement ensures only well-supported efforts reach the ballot, while the double approval process confirms ongoing public support for significant changes. These measures strengthen democratic participation and ensure initiatives represent broad consensus.\n",
      "\n",
      "I support voting \"Yes\" on this initiative. Implementing a single-subject rule enhances transparency and prevents unrelated issues from being bundled together. Raising the signature requirement ensures initiatives have strong backing. The two-election process confirms sustained public endorsement for significant changes. These reforms promote better governance and safeguard the integrity of the initiative process.\n",
      "\n",
      "I support voting \"Yes\" on this initiative. Establishing a single-subject rule for initiatives enhances clarity and accountability, preventing misleading bundled proposals. Increasing the signature requirement from 4% to 5% ensures stronger public backing. Requiring two approvals enhances stability and demonstrates sustained public support before constitutional changes take effect.\n",
      "\n"
     ]
    }
   ],
   "source": [
    "for x in chain.responses:\n",
    "    print(x)\n",
    "    print()"
   ]
  },
  {
   "cell_type": "code",
   "execution_count": 203,
   "id": "4b142b36",
   "metadata": {},
   "outputs": [
    {
     "name": "stdout",
     "output_type": "stream",
     "text": [
      "In the heart of our community, the decision on this initiative resonates deeply. Imagine a single mother, juggling work and home, longing for initiatives that truly address her struggles. For marginalized voices often overlooked, a \"yes\" vote signifies hope and inclusivity. Let's embrace these changes as a promise of a more just and responsive democracy.\n"
     ]
    }
   ],
   "source": [
    "print(chain.agents[0].history[1]['response'])"
   ]
  },
  {
   "cell_type": "code",
   "execution_count": null,
   "id": "55a7206d",
   "metadata": {},
   "outputs": [],
   "source": []
  }
 ],
 "metadata": {
  "kernelspec": {
   "display_name": "Python 3",
   "language": "python",
   "name": "python3"
  },
  "language_info": {
   "codemirror_mode": {
    "name": "ipython",
    "version": 3
   },
   "file_extension": ".py",
   "mimetype": "text/x-python",
   "name": "python",
   "nbconvert_exporter": "python",
   "pygments_lexer": "ipython3",
   "version": "3.9.6"
  }
 },
 "nbformat": 4,
 "nbformat_minor": 5
}
