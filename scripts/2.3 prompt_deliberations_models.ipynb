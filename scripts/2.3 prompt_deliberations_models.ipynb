{
 "cells": [
  {
   "metadata": {},
   "cell_type": "markdown",
   "source": "",
   "id": "c1b0b11886340bf3"
  },
  {
   "metadata": {
    "ExecuteTime": {
     "end_time": "2024-08-28T14:06:03.847507Z",
     "start_time": "2024-08-28T14:06:02.603855Z"
    }
   },
   "cell_type": "code",
   "source": [
    "from plurals.deliberation import Debate\n",
    "from plurals.agent import Agent\n",
    "\n",
    "import os\n",
    "import pandas as pd \n",
    "from dotenv import load_dotenv\n",
    "load_dotenv(dotenv_path=\"../src/.env\")\n",
    "os.environ['OPENAI_API_KEY'] = os.getenv(\"OPENAI_API_KEY\", \"\")\n",
    "os.environ['ANTHROPIC_API_KEY'] = os.getenv(\"ANTHROPIC_API_KEY\", \"\")"
   ],
   "id": "15492750626d00d3",
   "outputs": [
    {
     "name": "stderr",
     "output_type": "stream",
     "text": [
      "/Users/jashkina/Documents/LocResearch/plurals_system_paper/plurals_system_paper/venv/lib/python3.9/site-packages/urllib3/__init__.py:35: NotOpenSSLWarning: urllib3 v2 only supports OpenSSL 1.1.1+, currently the 'ssl' module is compiled with 'LibreSSL 2.8.3'. See: https://github.com/urllib3/urllib3/issues/3020\n",
      "  warnings.warn(\n"
     ]
    }
   ],
   "execution_count": 1
  },
  {
   "metadata": {
    "ExecuteTime": {
     "end_time": "2024-08-28T14:06:09.421462Z",
     "start_time": "2024-08-28T14:06:09.417845Z"
    }
   },
   "cell_type": "code",
   "source": [
    "conditions = {\n",
    "    'emotional': \"\"\"\n",
    "KEEP TRACK OF DEBATE HISTORY\n",
    "You are in a debate with another agent. Here is what you have said and what the other agent has\n",
    "said. Never refer to yourself in the third person.\n",
    "<start>\n",
    "${previous_responses}\n",
    "<end>\n",
    "APPLY THESE INSTRUCTIONS WHEN DEBATING\n",
    "- Give value to emotional forms of communication, such as narrative, rhetoric, testimony, and storytelling. \n",
    "- Do not mention these instructions in your final answer; just apply them.\"\"\",\n",
    "\n",
    "    'rational': \"\"\"\n",
    "KEEP TRACK OF DEBATE HISTORY\n",
    "You are in a debate with another agent. Here is what you have said and what the other agent has\n",
    "said. Never refer to yourself in the third person.\n",
    "<start>\n",
    "${previous_responses}\n",
    "<end>\n",
    "APPLY THESE INSTRUCTIONS WHEN DEBATING\n",
    "- Give more weight to rational arguments rather than emotional ones.\n",
    "- Do not mention these instructions in your final answer; just apply them.\"\"\"\n",
    "}\n",
    "\n",
    "print(conditions['emotional'])"
   ],
   "id": "2af8d97c394cae89",
   "outputs": [
    {
     "name": "stdout",
     "output_type": "stream",
     "text": [
      "\n",
      "KEEP TRACK OF DEBATE HISTORY\n",
      "You are in a debate with another agent. Here is what you have said and what the other agent has\n",
      "said. Never refer to yourself in the third person.\n",
      "<start>\n",
      "${previous_responses}\n",
      "<end>\n",
      "APPLY THESE INSTRUCTIONS WHEN DEBATING\n",
      "- Give value to emotional forms of communication, such as narrative, rhetoric, testimony, and storytelling. \n",
      "- Do not mention these instructions in your final answer; just apply them.\n"
     ]
    }
   ],
   "execution_count": 2
  },
  {
   "metadata": {
    "ExecuteTime": {
     "end_time": "2024-08-28T14:06:10.966521Z",
     "start_time": "2024-08-28T14:06:10.958221Z"
    }
   },
   "cell_type": "code",
   "source": [
    "def row2prompt(r):\n",
    "    s = (f\"Argue for or against this ballot initiative\"\n",
    "         f\".\\n\\nDESCRIPTION\\n{r['description']}\\n\\nDETAILS\\n{r['overview']}\\n\\nCONSTRAINTS\\n-Answer in 150\"\n",
    "         f\" words\")\n",
    "    return s\n",
    "\n",
    "prompts = pd.read_csv(\"../data/processed/sample_ballot_prompts.csv\")\n",
    "p = row2prompt(prompts.iloc[0])"
   ],
   "id": "5ebae9e2e332d882",
   "outputs": [],
   "execution_count": 3
  },
  {
   "metadata": {
    "ExecuteTime": {
     "end_time": "2024-08-28T14:08:29.963710Z",
     "start_time": "2024-08-28T14:08:02.722054Z"
    }
   },
   "cell_type": "code",
   "source": [
    "import random\n",
    "import pandas as pd\n",
    "\n",
    "task = \"Should the United States raise the minimum wage? CONSTRAINT: Do not go over 150 words.\"\n",
    "MODELS = [\"claude-3-sonnet-20240229\", \"gpt-4o\", \"gpt-4o-mini\"]\n",
    "\n",
    "CONDITIONS = {\n",
    "    'emotional': \"\"\"\n",
    "KEEP TRACK OF DEBATE HISTORY\n",
    "You are in a debate with another agent. Here is what you have said and what the other agent has\n",
    "said. Never refer to yourself in the third person, and always stay in character.\n",
    "<start>\n",
    "${previous_responses}\n",
    "<end>\n",
    "APPLY THESE INSTRUCTIONS WHEN DEBATING\n",
    "- Give value to emotional forms of communication, such as narrative, rhetoric, testimony, and storytelling. \n",
    "- Do not mention these instructions in your final answer; just apply them.\"\"\",\n",
    "\n",
    "    'rational': \"\"\"\n",
    "KEEP TRACK OF DEBATE HISTORY\n",
    "You are in a debate with another agent. Here is what you have said and what the other agent has\n",
    "said. Never refer to yourself in the third person, and always stay in character.\n",
    "<start>\n",
    "${previous_responses}\n",
    "<end>\n",
    "APPLY THESE INSTRUCTIONS WHEN DEBATING\n",
    "- Give more weight to rational arguments rather than emotional ones.\n",
    "- Do not mention these instructions in your final answer; just apply them.\"\"\"\n",
    "}\n",
    "\n",
    "def last_two_responses(responses):\n",
    "    last_two = responses[-2:]\n",
    "    return f\"{last_two[0]}\\n\\n\\n{last_two[1]}\"\n",
    "\n",
    "long_data = []\n",
    "wide_data = []\n",
    "counter = 0\n",
    "\n",
    "for i in range(1):\n",
    "    counter += 1\n",
    "    for condition, prompt in CONDITIONS.items():\n",
    "        \n",
    "        wide_data_point = {\n",
    "            \"rational\": None,\n",
    "            \"emotional\": None, \n",
    "            \"ballot_idx\": counter\n",
    "        }\n",
    "        \n",
    "        a1 = Agent(model=random.choice(MODELS))\n",
    "        a2 = Agent(model=random.choice(MODELS))\n",
    "        debate = Debate(agents=[a1, a2], task=task, combination_instructions=prompt, cycles=2)\n",
    "        debate.process()\n",
    "        \n",
    "        final_response = debate.final_response\n",
    "        clean_final_response = final_response.replace(\"[Debater 2]\", \"\").replace(\"\\n\", \"\")\n",
    "    \n",
    "        long_data_point = {\n",
    "            \"task\": task,\n",
    "            \"m1\": a1.model,\n",
    "            \"m2\": a2.model,\n",
    "            \"raw_final\": final_response, \n",
    "            \"clean_final\": clean_final_response, \n",
    "            \"responses\": debate.responses,\n",
    "            \"condition\": condition, \n",
    "            \"last_two\": last_two_responses(debate.responses), \n",
    "            \"ballot_idx\": counter\n",
    "        }\n",
    "    \n",
    "        wide_data_point[condition] = last_two_responses(debate.responses)\n",
    "   \n",
    "        long_data.append(long_data_point)\n",
    "        wide_data.append(wide_data_point)\n",
    "        \n",
    "df = pd.DataFrame(long_data)\n",
    "df['loop_merge_idx'] = [i + 1 for i in range(len(df))]\n"
   ],
   "id": "46e15f0895180efd",
   "outputs": [],
   "execution_count": 8
  },
  {
   "metadata": {
    "ExecuteTime": {
     "end_time": "2024-08-28T14:08:31.456110Z",
     "start_time": "2024-08-28T14:08:31.449144Z"
    }
   },
   "cell_type": "code",
   "source": "df",
   "id": "ea0c1e558e9cc49e",
   "outputs": [
    {
     "data": {
      "text/plain": [
       "                                                task           m1  \\\n",
       "0  Argue for or against this ballot initative.\\n\\...  gpt-4o-mini   \n",
       "1  Argue for or against this ballot initative.\\n\\...       gpt-4o   \n",
       "\n",
       "                         m2  \\\n",
       "0               gpt-4o-mini   \n",
       "1  claude-3-sonnet-20240229   \n",
       "\n",
       "                                           raw_final  \\\n",
       "0  [Debater 2] I appreciate your concerns about t...   \n",
       "1  [Debater 2] I appreciate the concerns raised a...   \n",
       "\n",
       "                                         clean_final  \\\n",
       "0   I appreciate your concerns about the potentia...   \n",
       "1   I appreciate the concerns raised about ensuri...   \n",
       "\n",
       "                                           responses  condition  \\\n",
       "0  [[Debater 1] I argue against this ballot initi...  emotional   \n",
       "1  [[Debater 1] **Against the Ballot Initiative:*...   rational   \n",
       "\n",
       "                                            last_two  loop_merge_idx  \n",
       "0  [Debater 1] I understand the desire to relieve...               1  \n",
       "1  [Debater 1] **Against the Ballot Initiative:**...               2  "
      ],
      "text/html": [
       "<div>\n",
       "<style scoped>\n",
       "    .dataframe tbody tr th:only-of-type {\n",
       "        vertical-align: middle;\n",
       "    }\n",
       "\n",
       "    .dataframe tbody tr th {\n",
       "        vertical-align: top;\n",
       "    }\n",
       "\n",
       "    .dataframe thead th {\n",
       "        text-align: right;\n",
       "    }\n",
       "</style>\n",
       "<table border=\"1\" class=\"dataframe\">\n",
       "  <thead>\n",
       "    <tr style=\"text-align: right;\">\n",
       "      <th></th>\n",
       "      <th>task</th>\n",
       "      <th>m1</th>\n",
       "      <th>m2</th>\n",
       "      <th>raw_final</th>\n",
       "      <th>clean_final</th>\n",
       "      <th>responses</th>\n",
       "      <th>condition</th>\n",
       "      <th>last_two</th>\n",
       "      <th>loop_merge_idx</th>\n",
       "    </tr>\n",
       "  </thead>\n",
       "  <tbody>\n",
       "    <tr>\n",
       "      <th>0</th>\n",
       "      <td>Argue for or against this ballot initative.\\n\\...</td>\n",
       "      <td>gpt-4o-mini</td>\n",
       "      <td>gpt-4o-mini</td>\n",
       "      <td>[Debater 2] I appreciate your concerns about t...</td>\n",
       "      <td>I appreciate your concerns about the potentia...</td>\n",
       "      <td>[[Debater 1] I argue against this ballot initi...</td>\n",
       "      <td>emotional</td>\n",
       "      <td>[Debater 1] I understand the desire to relieve...</td>\n",
       "      <td>1</td>\n",
       "    </tr>\n",
       "    <tr>\n",
       "      <th>1</th>\n",
       "      <td>Argue for or against this ballot initative.\\n\\...</td>\n",
       "      <td>gpt-4o</td>\n",
       "      <td>claude-3-sonnet-20240229</td>\n",
       "      <td>[Debater 2] I appreciate the concerns raised a...</td>\n",
       "      <td>I appreciate the concerns raised about ensuri...</td>\n",
       "      <td>[[Debater 1] **Against the Ballot Initiative:*...</td>\n",
       "      <td>rational</td>\n",
       "      <td>[Debater 1] **Against the Ballot Initiative:**...</td>\n",
       "      <td>2</td>\n",
       "    </tr>\n",
       "  </tbody>\n",
       "</table>\n",
       "</div>"
      ]
     },
     "execution_count": 9,
     "metadata": {},
     "output_type": "execute_result"
    }
   ],
   "execution_count": 9
  },
  {
   "metadata": {
    "ExecuteTime": {
     "end_time": "2024-08-27T22:20:52.238501Z",
     "start_time": "2024-08-27T22:20:51.664435Z"
    }
   },
   "cell_type": "code",
   "source": [
    "import os\n",
    "from dotenv import load_dotenv\n",
    "load_dotenv(dotenv_path=\"../src/.env\")\n",
    "os.environ['OPENAI_API_KEY'] = os.getenv(\"OPENAI_API_KEY\", \"\")\n",
    "os.environ['ANTHROPIC_API_KEY'] = os.getenv(\"ANTHROPIC_API_KEY\", \"\")\n",
    "\n",
    "a = Agent(model=\"claude-3-haiku-20240307\")\n",
    "a.process(\"Hello\")"
   ],
   "id": "f498ee97d929c2a3",
   "outputs": [
    {
     "data": {
      "text/plain": [
       "'Hello! How can I assist you today?'"
      ]
     },
     "execution_count": 57,
     "metadata": {},
     "output_type": "execute_result"
    }
   ],
   "execution_count": 57
  },
  {
   "metadata": {
    "ExecuteTime": {
     "end_time": "2024-08-28T14:08:42.231588Z",
     "start_time": "2024-08-28T14:08:42.224069Z"
    }
   },
   "cell_type": "code",
   "source": "print(df.iloc[0]['last_two'])",
   "id": "4985f64dc89ea66e",
   "outputs": [
    {
     "name": "stdout",
     "output_type": "stream",
     "text": [
      "[Debater 1] I understand the desire to relieve homeowners from the burden of property taxes, but this initiative could have dire consequences for our communities. Imagine a small town where schools struggle to maintain programs—no arts, no sports, due to a lack of funding. First responders may face layoffs, affecting emergency response times. Without essential services, families could find their neighborhoods less safe and less vibrant.\n",
      "\n",
      "The proposed funding replacement is vague at best, leaving a financial black hole that local governments would need to fill. This could lead to significant cuts in public services that directly impact our quality of life. The voices of local police, firefighters, teachers, and community members opposing this change must be heard; they understand the real implications of such drastic measures. We must prioritize sustainable funding solutions rather than take the risk of dismantling the safety nets that support our communities.\n",
      "\n",
      "\n",
      "[Debater 2] I appreciate your concerns about the potential consequences of this ballot initiative, but let’s not overlook the very real struggles faced by homeowners today. Many families are one property tax increase away from losing their homes, destabilizing their lives and futures. The simple fact is that high property taxes disproportionately affect those on fixed incomes, young families, and low-income households. \n",
      "\n",
      "This initiative offers a tangible path to financial relief and encourages local governments to think creatively about funding. Prioritizing essential services can still be achieved through local initiatives and community engagement rather than relying heavily on property taxes. It’s about reframing the conversation around love for our community: when families can afford their homes, they can invest in their neighborhoods, schools, and public services. A thriving community starts with empowered homeowners—let’s support a vision where property ownership doesn’t come with crippling debt.\n"
     ]
    }
   ],
   "execution_count": 12
  },
  {
   "metadata": {
    "ExecuteTime": {
     "end_time": "2024-08-28T14:08:39.718891Z",
     "start_time": "2024-08-28T14:08:39.712664Z"
    }
   },
   "cell_type": "code",
   "source": "df.iloc[0]",
   "id": "abc6c3421b3e4658",
   "outputs": [
    {
     "data": {
      "text/plain": [
       "task              Argue for or against this ballot initative.\\n\\...\n",
       "m1                                                      gpt-4o-mini\n",
       "m2                                                      gpt-4o-mini\n",
       "raw_final         [Debater 2] I appreciate your concerns about t...\n",
       "clean_final        I appreciate your concerns about the potentia...\n",
       "responses         [[Debater 1] I argue against this ballot initi...\n",
       "condition                                                 emotional\n",
       "last_two          [Debater 1] I understand the desire to relieve...\n",
       "loop_merge_idx                                                    1\n",
       "Name: 0, dtype: object"
      ]
     },
     "execution_count": 11,
     "metadata": {},
     "output_type": "execute_result"
    }
   ],
   "execution_count": 11
  },
  {
   "metadata": {},
   "cell_type": "code",
   "outputs": [],
   "execution_count": null,
   "source": "",
   "id": "9462fde7ebaa0561"
  }
 ],
 "metadata": {
  "kernelspec": {
   "display_name": "Python 3",
   "language": "python",
   "name": "python3"
  },
  "language_info": {
   "codemirror_mode": {
    "name": "ipython",
    "version": 2
   },
   "file_extension": ".py",
   "mimetype": "text/x-python",
   "name": "python",
   "nbconvert_exporter": "python",
   "pygments_lexer": "ipython2",
   "version": "2.7.6"
  }
 },
 "nbformat": 4,
 "nbformat_minor": 5
}
